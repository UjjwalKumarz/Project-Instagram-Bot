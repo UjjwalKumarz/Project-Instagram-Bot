{
 "cells": [
  {
   "cell_type": "markdown",
   "metadata": {},
   "source": [
    "# Project"
   ]
  },
  {
   "cell_type": "markdown",
   "metadata": {},
   "source": [
    "# InstaBot - Part 2"
   ]
  },
  {
   "cell_type": "markdown",
   "metadata": {},
   "source": [
    "Your friend has opened a new Food Blogging handle on Instagram and wants to get famous. He wants to follow a lot of people so that he can get noticed quickly but it is a tedious task so he asks you to help him. As you have just learned automation using Selenium, you decided to help him by creating an Instagram Bot. You need to create different functions for each task."
   ]
  },
  {
   "cell_type": "markdown",
   "metadata": {},
   "source": [
    "### Importing all the required libraries and Creating a web driver session"
   ]
  },
  {
   "cell_type": "code",
   "execution_count": 1,
   "metadata": {},
   "outputs": [],
   "source": [
    "from selenium import webdriver\n",
    "from selenium.webdriver.common.by import By\n",
    "from webdriver_manager.chrome import ChromeDriverManager\n",
    "from selenium.webdriver.chrome.service import Service\n",
    "from selenium.webdriver.support.ui import WebDriverWait\n",
    "from selenium.webdriver.support import expected_conditions as EC\n",
    "import time\n",
    "from selenium.common.exceptions import TimeoutException\n",
    "from selenium.common.exceptions import NoSuchElementException\n",
    "import pandas as pd\n",
    "import numpy as np\n",
    "import matplotlib.pyplot as plt"
   ]
  },
  {
   "cell_type": "code",
   "execution_count": 2,
   "metadata": {},
   "outputs": [
    {
     "name": "stdout",
     "output_type": "stream",
     "text": [
      "\n"
     ]
    }
   ],
   "source": [
    "def webdriverSession(url):\n",
    "    driver = webdriver.Chrome(service = Service(ChromeDriverManager().install()))\n",
    "    driver.maximize_window()\n",
    "    driver.get(url)\n",
    "    return driver\n",
    "\n",
    "url = 'https://www.instagram.com/'\n",
    "driver = webdriverSession(url)"
   ]
  },
  {
   "cell_type": "markdown",
   "metadata": {},
   "source": [
    "### Login to your Instagram Handle and Submit with sample username and password"
   ]
  },
  {
   "cell_type": "code",
   "execution_count": 3,
   "metadata": {},
   "outputs": [
    {
     "name": "stdout",
     "output_type": "stream",
     "text": [
      "You have successfully Logged In\n"
     ]
    }
   ],
   "source": [
    "def LogIn(driver, username, password):\n",
    "    u_name = wait.until(EC.presence_of_element_located((By.NAME, 'username')))\n",
    "    u_pass = wait.until(EC.presence_of_element_located((By.NAME, 'password')))\n",
    "    u_name.send_keys(username)\n",
    "    u_pass.send_keys(password)\n",
    "\n",
    "    login = driver.find_element(By.XPATH, '// button[contains(@type,\"submit\")]')\n",
    "    login.click()\n",
    "    \n",
    "    try:\n",
    "        save_info = wait.until(EC.presence_of_element_located((By.XPATH, '// div[@class = \"cmbtv\"]/button')))\n",
    "        save_info.click()\n",
    "    except TimeoutException:\n",
    "        pass\n",
    "\n",
    "    # Handling Turn On Notifications window\n",
    "    try:\n",
    "        notification = wait.until(EC.presence_of_element_located((By.XPATH, '// button[contains(@class, \"_a9_1\")]')))\n",
    "        notification.click()\n",
    "    except TimeoutException:\n",
    "        pass\n",
    "    finally:\n",
    "        print('You have successfully Logged In')\n",
    "        \n",
    "wait = WebDriverWait(driver,10)\n",
    "username = 'SAMPLE USERNAME'\n",
    "password = 'SAMPLE PASSWORD'\n",
    "LogIn(driver, username, password)\n",
    "time.sleep(2)"
   ]
  },
  {
   "cell_type": "markdown",
   "metadata": {},
   "source": [
    "## 1). Now your friend has followed a lot of different food bloggers, he needs to analyse the habits of these bloggers.\n",
    "### 1.1). From the list of instagram handles you obtained when you searched ‘food’ in previous project. Open the first 10 handles and find the top 5 which have the highest number of followers"
   ]
  },
  {
   "cell_type": "markdown",
   "metadata": {},
   "source": [
    "#### Searching \"food\" and obtaining handles"
   ]
  },
  {
   "cell_type": "code",
   "execution_count": 4,
   "metadata": {},
   "outputs": [
    {
     "data": {
      "text/plain": [
       "['foodie_incarnate',\n",
       " 'cg_food_lover',\n",
       " 'foodzeee',\n",
       " 'food_.gallery_',\n",
       " 'foodranchi',\n",
       " 'kolkatasutrafood',\n",
       " 'food',\n",
       " 'foodsbible',\n",
       " 'delhifoodwalks',\n",
       " 'bhilaifoood',\n",
       " 'dilsefoodie',\n",
       " 'eatsureofficial',\n",
       " 'food52',\n",
       " 'beardmeatsfood',\n",
       " 'foodbible',\n",
       " 'raipurfoodielove',\n",
       " 'foodmedia09',\n",
       " 'food_for_life_kolkata24',\n",
       " 'foodie.raipurian',\n",
       " '__kamina_food_vlogs__',\n",
       " 'food.darzee',\n",
       " 'indian_tasty_food',\n",
       " 'musafir.naveed',\n",
       " 'yourfoodlab',\n",
       " 'epicurean_tastes',\n",
       " 'food_buzz_',\n",
       " '365foodies',\n",
       " 'bright_colour_lens',\n",
       " 'voomplafood',\n",
       " 'raipurfood_byora',\n",
       " 'raipurfoodpedia',\n",
       " 'foodie_ankitjsr',\n",
       " 'fatgirlkitchenchronicle',\n",
       " 'the.hungrydodo',\n",
       " 'cg_food_and_travel',\n",
       " 'blissful_food_plates',\n",
       " 'foodvoyagerbadhan',\n",
       " 'foodnartstories',\n",
       " 'bongeats',\n",
       " 'foodie_traveller0',\n",
       " 'foodinsider',\n",
       " 'thefoodietakesflight',\n",
       " 'Lemon Chilli - Fun N Food park',\n",
       " 'foods_taa',\n",
       " 'the_everyday_food',\n",
       " 'thefoodiecam',\n",
       " 'Food Factory',\n",
       " 'thecrazyindianchef',\n",
       " 'Big Bazaar Dhanbad Chowpatty Food Court',\n",
       " 'foodguy24',\n",
       " 'bengali_sweets_and_food_pune']"
      ]
     },
     "execution_count": 4,
     "metadata": {},
     "output_type": "execute_result"
    }
   ],
   "source": [
    "def SearchText(driver, text):\n",
    "    search_box = wait.until(EC.presence_of_element_located((By.XPATH, '// div[@class = \"_aaw9\"]')))\n",
    "    search_box.click()\n",
    "    try:\n",
    "        clear = driver.find_element(By.CLASS_NAME, '_9-lv')\n",
    "        clear.click()\n",
    "    except:\n",
    "        pass\n",
    "    input_k = wait.until(EC.presence_of_element_located((By.XPATH, '//nav//input')))\n",
    "    input_k.send_keys(text)\n",
    "    \n",
    "    time.sleep(3)\n",
    "\n",
    "def FindingHandles(driver, text):\n",
    "    SearchText(driver, text)\n",
    "    handle = driver.find_element(By.CLASS_NAME, '_abnx')\n",
    "    handles = handle.find_elements(By.CLASS_NAME, '_aacw')\n",
    "    \n",
    "    profiles = []\n",
    "    for i in handles:\n",
    "        h = i.get_attribute('innerHTML')\n",
    "        if h[0]=='#':\n",
    "            continue\n",
    "        profiles.append(h)\n",
    "    \n",
    "    clear = driver.find_element(By.CLASS_NAME, '_9-lv')\n",
    "    clear.click()\n",
    "    time.sleep(2)\n",
    "    return profiles\n",
    "    \n",
    "text = 'food'\n",
    "profiles = FindingHandles(driver, text)\n",
    "profiles"
   ]
  },
  {
   "cell_type": "code",
   "execution_count": 5,
   "metadata": {},
   "outputs": [],
   "source": [
    "def OpenProfile(driver, profile_name):\n",
    "    SearchText(driver, profile_name)\n",
    "    handle = driver.find_element(By.CLASS_NAME, '_abnx')\n",
    "    handles = handle.find_elements(By.CLASS_NAME, '_aacw')\n",
    "\n",
    "    for i in handles:\n",
    "        h = i.get_attribute('innerHTML')\n",
    "        if h == profile_name:\n",
    "            try:\n",
    "                i.click()\n",
    "                print('We have Successfully opened the profile of', h )\n",
    "                break\n",
    "            except:\n",
    "                break"
   ]
  },
  {
   "cell_type": "code",
   "execution_count": 6,
   "metadata": {},
   "outputs": [
    {
     "name": "stdout",
     "output_type": "stream",
     "text": [
      "We have Successfully opened the profile of foodie_incarnate\n",
      "1300000.0\n",
      "We have Successfully opened the profile of cg_food_lover\n",
      "3534.0\n",
      "We have Successfully opened the profile of foodzeee\n",
      "1300000.0\n",
      "We have Successfully opened the profile of food_.gallery_\n",
      "76.0\n",
      "We have Successfully opened the profile of foodranchi\n",
      "130000.0\n",
      "We have Successfully opened the profile of kolkatasutrafood\n",
      "42900.0\n",
      "We have Successfully opened the profile of foodsbible\n",
      "7000000.0\n",
      "We have Successfully opened the profile of delhifoodwalks\n",
      "174000.0\n",
      "We have Successfully opened the profile of bhilaifoood\n",
      "2841.0\n",
      "We have Successfully opened the profile of dilsefoodie\n",
      "1000000.0\n"
     ]
    },
    {
     "data": {
      "text/plain": [
       "{'foodie_incarnate': 1300000.0,\n",
       " 'cg_food_lover': 3534.0,\n",
       " 'foodzeee': 1300000.0,\n",
       " 'food_.gallery_': 76.0,\n",
       " 'foodranchi': 130000.0,\n",
       " 'kolkatasutrafood': 42900.0,\n",
       " 'foodsbible': 7000000.0,\n",
       " 'delhifoodwalks': 174000.0,\n",
       " 'bhilaifoood': 2841.0,\n",
       " 'dilsefoodie': 1000000.0}"
      ]
     },
     "execution_count": 6,
     "metadata": {},
     "output_type": "execute_result"
    }
   ],
   "source": [
    "followers = {}\n",
    "count = 0\n",
    "for i in profiles:\n",
    "    try:\n",
    "        OpenProfile(driver, i)\n",
    "        li = wait.until(EC.presence_of_all_elements_located((By.CLASS_NAME, '_aa_5')))\n",
    "        f = li[1].text.split()[0]\n",
    "        if f[-1]=='K':\n",
    "            f = float(f[:-1]) * 1000\n",
    "        elif f[-1]=='M':\n",
    "            f = float(f[:-1]) * 1000000\n",
    "        else:\n",
    "            f = float(\"\".join(f.split(',')))\n",
    "        print(f)\n",
    "        followers[i] = f\n",
    "        driver.back()\n",
    "        time.sleep(2)\n",
    "        count += 1\n",
    "        if count==10:\n",
    "            break\n",
    "    except:\n",
    "        clear = driver.find_element(By.CLASS_NAME, '_9-lv')\n",
    "        clear.click()\n",
    "        pass\n",
    "\n",
    "followers"
   ]
  },
  {
   "cell_type": "code",
   "execution_count": 7,
   "metadata": {},
   "outputs": [
    {
     "name": "stdout",
     "output_type": "stream",
     "text": [
      "foodsbible : 7000000.0\n",
      "foodie_incarnate : 1300000.0\n",
      "foodzeee : 1300000.0\n",
      "dilsefoodie : 1000000.0\n",
      "delhifoodwalks : 174000.0\n"
     ]
    }
   ],
   "source": [
    "top_handles = sorted(followers, key=lambda x:followers[x], reverse=True)\n",
    "top5_handles = top_handles[:5]\n",
    "for handle in top5_handles:\n",
    "    print(handle, ':', followers[handle])"
   ]
  },
  {
   "cell_type": "markdown",
   "metadata": {},
   "source": [
    "### 1.2). Now Find the number of posts these handles have done in the previous 3 days."
   ]
  },
  {
   "cell_type": "code",
   "execution_count": 8,
   "metadata": {},
   "outputs": [
    {
     "name": "stdout",
     "output_type": "stream",
     "text": [
      "We have Successfully opened the profile of foodsbible\n",
      "foodsbible have done 8 posts in the previous 3 days\n",
      "We have Successfully opened the profile of foodie_incarnate\n",
      "foodie_incarnate have done 6 posts in the previous 3 days\n",
      "We have Successfully opened the profile of foodzeee\n",
      "foodzeee have done 1 posts in the previous 3 days\n",
      "We have Successfully opened the profile of dilsefoodie\n",
      "dilsefoodie have done 4 posts in the previous 3 days\n",
      "We have Successfully opened the profile of delhifoodwalks\n",
      "delhifoodwalks have done 7 posts in the previous 3 days\n"
     ]
    }
   ],
   "source": [
    "posts_count = {}\n",
    "for profile in top5_handles:\n",
    "    OpenProfile(driver, profile)\n",
    "    time.sleep(2)\n",
    "    post = driver.find_element(By.CLASS_NAME, '_aanf')\n",
    "    post.click()\n",
    "    count = 0\n",
    "    day = 0\n",
    "    while True:\n",
    "        t = wait.until(EC.presence_of_element_located((By.CLASS_NAME, '_aa-b'))).text.split()\n",
    "        if 'DAY' in t or 'DAYS' in t:\n",
    "            if int(t[0]) <= 3:\n",
    "                count+=1\n",
    "            else:\n",
    "                break\n",
    "        elif 'HOUR' in t or 'HOURS' in t or 'MINUTE' in t or 'MINUTES' in t:\n",
    "            count += 1\n",
    "        else:\n",
    "            break\n",
    "        nxt = driver.find_element(By.CLASS_NAME, '_aaqg')\n",
    "        nxt.click()\n",
    "    print(profile, 'have done', count, 'posts in the previous 3 days')\n",
    "    posts_count[profile] = count\n",
    "    \n",
    "    close = driver.find_element(By.CLASS_NAME, 'futnfnd5')\n",
    "    close.click()\n",
    "    time.sleep(1)\n",
    "home = driver.find_element(By.CLASS_NAME, '_acrd')\n",
    "home.click()"
   ]
  },
  {
   "cell_type": "markdown",
   "metadata": {},
   "source": [
    "### 1.3). Depict this information using a suitable graph."
   ]
  },
  {
   "cell_type": "code",
   "execution_count": 9,
   "metadata": {},
   "outputs": [
    {
     "data": {
      "image/png": "[encoded data removed]",
      "text/plain": [
       "<Figure size 720x504 with 1 Axes>"
      ]
     },
     "metadata": {
      "needs_background": "light"
     },
     "output_type": "display_data"
    },
    {
     "data": {
      "image/png": "[encoded data removed]",
      "text/plain": [
       "<Figure size 432x288 with 1 Axes>"
      ]
     },
     "metadata": {
      "needs_background": "light"
     },
     "output_type": "display_data"
    }
   ],
   "source": [
    "x = followers.keys()\n",
    "y = followers.values()\n",
    "plt.figure(figsize=(10, 7))\n",
    "plt.bar(x,y, color='green')\n",
    "plt.xticks(rotation=45)\n",
    "plt.title('Handles vs Number of followers', size=15)\n",
    "plt.xlabel('Handles', size=12)\n",
    "plt.ylabel('Followers', size=12)\n",
    "plt.show()\n",
    "\n",
    "x = top5_handles\n",
    "y = [x for x in posts_count.values()]\n",
    "plt.bar(x,y)\n",
    "plt.xticks(rotation=45)\n",
    "plt.title('Top 5 Handles vs Number of Posts', size=15)\n",
    "plt.xlabel('Handles', size=12)\n",
    "plt.ylabel('Posts', size=12)\n",
    "plt.show()"
   ]
  },
  {
   "cell_type": "markdown",
   "metadata": {},
   "source": [
    "## 2). Your friend also needs a list of hashtags that he should use in his posts.\n",
    "### 2.1). Open the 5 handles you obtained in the last question, and scrape the content of the first 10 posts of each handle.\n",
    "### 2.2). Prepare a list of all words used in all the scraped posts and calculate the frequency of each word."
   ]
  },
  {
   "cell_type": "code",
   "execution_count": 12,
   "metadata": {
    "scrolled": false
   },
   "outputs": [
    {
     "name": "stdout",
     "output_type": "stream",
     "text": [
      "We have Successfully opened the profile of foodsbible\n",
      "We have Successfully opened the profile of foodie_incarnate\n",
      "We have Successfully opened the profile of foodzeee\n",
      "We have Successfully opened the profile of dilsefoodie\n",
      "We have Successfully opened the profile of delhifoodwalks\n"
     ]
    },
    {
     "data": {
      "text/plain": [
       "['Remy’s Omelette 🍳😍(📷: @albert_cancook)',\n",
       " 'Eat or Pass? 🤔😋(📷: @bayashi_tv)',\n",
       " 'Worlds Hottest Dry Age 🔥🥩(📷: @maxthemeatguy)',\n",
       " 'Cloud Cake ☁️🎂 (📷: beautyhomeflour / TikTok)',\n",
       " 'Pasta Carbonara 🍝🤤(📷: @notorious_foodie)',\n",
       " '6 Layer Brownie 🍫😍Song: M P D + by @darwins.ilva (📷: @fitwaffle)',\n",
       " 'Rate this meal 1-10! 🍖🥔(📷: @saidakromchef)',\n",
       " 'Eggplant Vodka Parm Panini 🍆😍 (📷: @bnaporkstore)',\n",
       " 'Eat or Pass? 🤔😍(📷: @sadfman)',\n",
       " 'Stuffed Cabbage Rolls 😋 (📷: @umihito.vlog)',\n",
       " \"Making of INDIA'S BIGGEST PARATHA😱😱.Kindly watch the full video for location, price and all other details🤗🤗.#foodieincarnate #sodelhi #newdelhi #foodtalkindia #delhigram #indianfood #delhifoodblogger #foodgasm #foodporn #foodpornshare #foodlover #foodgram #foodiesofinstagram #foodie #indianstreetfood #streetfood #delhistreetfood #streetfoodindia #mumbaistreetfood #delhifoodie #foodblogger #indianfoodie #desikhana #indianfoodblogger #indianfoodbloggers #delhifood #mumbai #delhi #paratha #Jaipur\",\n",
       " 'Gadadhaari Shikanji of Patna😱😱.Watch the full video on my YouTube channel. Link is in my bio🤗🤗.#foodieincarnate #reelitfeelit #reelkarofeelkaro #reelsinstagram #reels #patna #bihar #viralfood #explore',\n",
       " 'Can you guess how many Balushahi are there in this kadhai??😋😋.🤗 Hiralal & Sons, Shahdara.#foodieincarnate #sodelhi #newdelhi #foodtalkindia #desifood #delhigram #indianfood #pune #gurugram #kolkata #mumbai #delhi #shahdara #eastdelhi #indianfoodie #southindianfood #dessert #desserts #delhifood #mumbaifood #mithai #indiandessert #delhifoodblogger #indianfoodbloggers #foodblogger #soulfood #balushahi #sobangalore #dessertporn #desikhana',\n",
       " 'Goldman of Pune Trying Zatka Panipuri😱😱 .Kindly watch the full video for location, price and all other details🤗🤗.#foodieincarnate #sodelhi #newdelhi #foodtalkindia #delhigram #indianfood #delhifoodblogger #foodgasm #foodporn #foodpornshare #foodlover #foodgram #foodiesofinstagram #foodie #indianstreetfood #streetfood #delhistreetfood #streetfoodindia #mumbaistreetfood #delhifoodie #foodblogger #indianfoodie #desikhana #indianfoodblogger #indianfoodbloggers #delhifood #mumbai #delhi #panipuri #nashik',\n",
       " 'Double Cheese, Double Mayo Bhutta of Surat😳😳.Watch the full video on my YouTube channel. Link is in my bio🤗🤗.#foodieincarnate #reelitfeelit #reelkarofeelkaro #reelsinstagram #reels #sweetcorn #bhutta #viralfood #explore',\n",
       " \"Delhi's Famous SitaRam ke Chole Bhature😍😍..#foodieincarnate #sodelhi #newdelhi #delhigram #foodtalkindia #desifood #chole #cholebhature #bhature #paharganj #puranidilli #delhistreetfood #mumbaistreetfood #indianstreetfood #streetfood #streetfoodindia #streetfoods #streetfoodlover #thali #instafoodlover #delhifood #delhite #olddelhi #foodinstagram #instagramfood #desikhana #indiancuisine #kulcha #chana #indianfoodblogger\",\n",
       " \"How Gujarat's Favourite Snack Khakhra is Made🤩🤩.Kindly watch the full video for location, price and all other details🤗🤗.#foodieincarnate #sodelhi #newdelhi #foodtalkindia #delhigram #indianfood #delhifoodblogger #foodgasm #foodporn #foodpornshare #foodlover #foodgram #foodiesofinstagram #foodie #indianstreetfood #streetfood #delhistreetfood #streetfoodindia #mumbaistreetfood #delhifoodie #foodblogger #indianfoodie #desikhana #indianfoodblogger #indianfoodbloggers #delhifood #mumbai #delhi #gujju #khakhra\",\n",
       " '100Rs/- Kulhad Pizza😳😳.📍Rabbit Lee Cafe, Krishna Nagar.#foodieincarnate #reelitfeelit #reelkarofeelkaro #reelsinstagram #reels #pizza #pizzalover #streetfood #viralfood #explore',\n",
       " 'If you are ever visiting Sirohi district of Rajasthan and there is one place where you must eat- it is Hotel Baba Ramdev. This place serves really delicious food😋👌🏻.#foodieincarnate #sodelhi #newdelhi #delhigram #foodtalkindia #desifood #indianfood #thali #sirohi #rajasthan #highwayfood #highway #dhaba #travelblogger #indianfoodie #indianfoodblogger #indianfoodbloggers #foodblogger #foodbloggers #delhifoodblogger #mumbaifoodie #travelfood #highway #indiatravel #rajasthanfood #localflavor #amarsirohi #mountabu #rajasthanifood',\n",
       " 'Most Famous Misal of Nashik🤩🤩 .Kindly watch the full video for location, price and other details🤗🤗.#foodieincarnate #sodelhi #newdelhi #foodtalkindia #delhigram #indianfood #delhifoodblogger #foodgasm #foodporn #foodpornshare #foodlover #foodgram #foodiesofinstagram #foodie #indianstreetfood #streetfood #delhistreetfood #streetfoodindia #mumbaistreetfood #delhifoodie #foodblogger #indianfoodie #desikhana #indianfoodblogger #indianfoodbloggers #delhifood #mumbai #delhi #misal #nashik',\n",
       " \"Re-created @rnrbiryani signature veg Donne biryani 😍 at home.If you haven't tried @rnrbiryani yet ! You're missing out on one of the best donne biryani in the town. The Biryani pack comes with onion raitha and 2 desserts - Double ka meetha and gulab jamun.We never miss to order their signature veg starter paneer sholay . This time we also had ordered @rnrbiryani newly launched dessert - crystal Roll , which was purely out of the world ❤️#rnrbiryani#donnebiryani#biriyani#rnr #foodzeee\",\n",
       " 'Homemade masala paneer / flavoured cottage cheeseDetailed recipe video on my YouTube channel #paneer#masalapaneer#cheese#recipe#cottagecheese#foodzeee',\n",
       " 'Rajma - Chawal is a popular North Indian combo that is relished by all age groups.Tag someone who loves this combo.',\n",
       " 'Traditional variety sevai with @sgr777food Instant RICE SEVAI !\"777\" sevai is gluten-free ✔️And very easy and quick to make.READY IN JUST 5 MINS ❗️This is the pre-cooked, dehydrated Rice Sevai (Rice String Hoppers). Just add boiling water and keep aside for 3 minutes. Then drain the water completely. Rice Sevai is ready to serve hot and fresh. Normally a seasoning of your choice is added to make coconut Sevai, Lemon Sevai, Curd Sevai, Cashew nut Sevai or Tamarind Sevai.@sgr777food Rice Sevai tasted very authentic just like freshly homemade ❤️We made PULI ( TAMARIND) SEVAI , LEMON SEVAI , THAYIR ( CURD ) SEVAI & SWEET SEVAI with @sgr777food Instant rice sevai.Plain  sevai tastes excellent with kurma or more kuzhambu. Variety sevai was one of my favourite lunch box dish during My School days #nostalgic ❤️Shop \"777\" products @www.sgr777foods.com/shop#sevai#sgr777food#ricesevai #recipe #shavige#ottushavige #foodzeee',\n",
       " '\"Ahead of #PrimeDay, I got to understand how Amazon\\'s prepares for its biggest shopping event. I was at Amazon\\'s Fulfilment Centre in Bangalore and this experience has strengthened my trust in ordering food and groceries from Amazon. I witnessed Amazon\\'s state-of-the-art technology for hygienic and safe storage of the products, and to check the expiry date of the grocery items. I am super excited to #DiscoverJoyWithAmazon this #PrimeDay great deals, new launches, along with fast, safe and reliable shopping experience.@amazonnews_in #collab #foodzeee',\n",
       " 'Nellikai ( Gooseberry)Thokku with curd rice Detailed recipe video on my YouTube channel',\n",
       " 'Paalkova | 2 - ingredient Therattipal Detailed recipe video on my YouTube channel. Link in bio @foodzeee #paalkova#milksweet#milk#therattipal #recipe #foodzeee',\n",
       " 'Kalyana veetu VathaKuzhambu made with the goodness of @sgr777food “777” Brand Chekku Gingelly Oil , \"777\" Brand finest quality Asafoetida (Hing) and Vathals ( fry & eat )Key ingredient to almost every South Indian kuzhambu ( Curry ) and Pickle is Nalla Ennai (gingelly oil) @sgr777food authentic traditionally made gingelly oil has elevated the VathaKuzhambu\\'s taste to a different level, just like how my paati use to make .AMBROSIAL !!❤️Gingelly oil, commonly known as nalla ennai (Good Oil) in Tamil language, inherited its name for its goodness in internal (Cooking), external (Wellness) and Divine (Spiritual) usage in temples and homes. 777 Brand take utmost care in selection of the right blend of sesame seeds, sun-dry the same and crush the seeds in a traditional rotor (Chekku) crushing method ensuring freshness and aroma is retained at every stage before packing.@sgr777food manufacture wide range of products like Appalams, Sharbat, Cooking Oil, Masala Powders and Pure Spice powders, Pickles, Instant Pastes and Chutney, Rice Sevai, Vermicelli, Asafoetida, Traditional Vathals and Vadams, Gulab Jamun and Turmeric Pepper Milk Mix all in 777 Brand. Check out our products to get an authentic and home feel in any dish. Make your eating time more tasteful and happier with our products. These foods can also be a good gift option for your friends who miss their traditional food.FRESH INGREDIENTS Only the finest ingredients are usedto give you that authentichome-cooked taste.LIKE HOMEMADE TASTEWe at 777 Foods use only selected quality raw materials and take utmost care in giving you the taste and quality that matches your homemade preparations.ROBUST PRODUCTION Our factory has state of art machineries and stringent quality control procedures that ensures clean, neat, and hygienic production, there by reaching you with highest food safety standards.7 Decades Of Culinary JourneyWe @sgr777food Serve The Finest Quality Traditional Packaged Food Products To All Homes Globally,preserving our priceless culinary traditions and serving wholesome home-cooked food.#vathakuzhambu #kuzhambu #sgr777foods #recipe #foodzeee',\n",
       " 'Kadala curry with kerala puttuDetailed recipe video on my YouTube channel. Link in bio @foodzeee#puttu#kadalacurry #keralarecipes#recipe #foodzeee',\n",
       " 'Kolkata street-style jhal muri Detailed recipe video on my YouTube channel. Link in bio @foodzeee #jhalmuri #chaat#recipe #streetfood #india#foodzeee',\n",
       " 'Bought This Amazing Customised RAKHI HAMPER From @sugar_bake_by_arsheen_kohli Are You Also Looking for Rakhi Hamper Please Check Her Page For Amazing Cakes And Hampers. #dilsefoodie #dilsecouple #Rakhi #Hampers',\n",
       " 'Aisi Banaya Jaata Hai Authentic No Mixing Wala Desi Ghee. Call For Order : 8209235276#dilsefoodie #dilsecouple #village #cow #desi #ghee',\n",
       " \"Traditional Assam's Breakfast Jolpan With @_bhaskar_dutta Thank You Bro For This Amazing Experience. #dilsefoodie #dilsecouple\",\n",
       " \"Mumbai Ki Biggest Aasur Thali With @ulhaskamthe And @wake_n_bite At Sangeeta's KitchenCheck Full Video On YouTube Dilsefoodie Official #dilsefoodie #dilsecouple #thali\",\n",
       " \"Perfect Place For Weekend With Your Partner Or Friends. And The Best Part Is Its Only 1Hour Drive From Delhi. Price ?? It's Unbelievable Rs 5999 With All Meals Included Lunch, Evening High Tea, Dinner And BreakfastAlso You Will Get 20% Off If You Give Dilsefoodie Reference. Tag Your Loved Once, Family Or Friends For GettogetherAlso This Property Is Pure Veg 😀. For Booking You Can Call At 8222955000, 9050123900#dilsefoodie #dilsecouple #ArnavResorts #Murthal\",\n",
       " 'Roll Baby Roll - Roasted Chicken At Arabian Delites, Defence Colony. #dilsefoodie #dilsecouple #roasted #chicken',\n",
       " 'Tikka Junction Is Giving Free Butter Chicken 😀Checkout Our Youtube Video On Dilsefoodie Official And Enjoy Free Butter Chicken 😀. #dilsefoodie #dilsecouple #fish #chicken',\n",
       " '2 Days To Go.. Video coming soon.. Kuch #anokha #adhbhut #awishvasniye #foodiewe',\n",
       " 'Khaana Kha Raha Hu Meri Maa 😂😂 @dilsecouple #dilsefoodie #dilsecouple',\n",
       " 'Mausam Ki Demand Pe Paish Karte Hai Garg Chaat Ki Super Crispy Tikki At Chandigarh #dilsefoodie #dilsecouple #food #Alootikki',\n",
       " 'It has been 2 years since Delhi lost one of her brightest storyteller and proud resident. We pay our homage to such a warm, erudite and multi faceted personality who had enlightened us with such wonderful storys and insights about culture, food and heritage. In her loving memory we present you a special episode today featuring an immersive overview of the syncretic culture and tradition of Nizamuddin through her eyes. Do tune in to Anubhav Sapra YouTube channel for a soulful story experience. #nizamuddin #delhi',\n",
       " 'Irresistible monsoon time treats Anarsa and Feni from Ram Prasad Makhan Lal Halwai which has been around since 1940.#anarsa #feni #monsoon #monsoonsweets #makhanlalhalwai #delhifoodtour #reels',\n",
       " 'Kanpur Non Veg Food Tour episode is now playing on Anubhav Sapra YouTube channel. Link is in the bio. Watch now.',\n",
       " \"A new episode featuring a mouthwatering Non Veg Food Tour in Kanpur will be up at 9 pm tonight on Anubhav Sapra YouTube channel. Do tune in to discover some of the city's best non veg eateries and their star dishes. . #dfwinkanpur #breakfasttour #foodwalkawithanubhav #kanpurfoodies #foodexploration #streetfood #nonvegfoodtour #bestnonvegplaces\",\n",
       " 'Famous breakfast of Kanpur - Multigrain honey bun from Pehalwan Ji Makhan Wale in Phoolbag. #kanpurfoodtour #kanpurfood #dfwinkanpur #breakfasttour #foodwalkawithanubhav #kanpurfoodies #foodexploration #streetfood',\n",
       " \"Be it breakfast, brunch, evening snacks or any other meal of the day, Kanpur offers one of the best gastronomic experience. Let's introduce you to some of the toothsome options that we had relished during our breakfast food tour in the city. 1. Multigrain honey bun from Pehalwan Ji Makhan Wale in Phoolbag. 2. Motichoor ladoo from Banarsi Mishthan Bhandar in Birhana Road. 3. Malai paneer samosa from Pappu Samosa Wale. 4. Malai doodh from Shukla Ji Makhan Bhandar. 5. Aalu tikki chaat from Ram Prakash Chaat Wale#dfwinkanpur #breakfasttour #foodwalkawithanubhav #kanpurfoodies #foodexploration #streetfood\",\n",
       " 'Because of its perfectly crunchy and luscious taste this rich malai ghewar from Shri Banke Bihari Brijwasi Rasgulla Wale in Kamala Nagar, Delhi is definitely a piece of art. The thick and lustrous layer of saffron-pistachio flavoured malai on top elevates its taste to the next level.#ghewar #malaighewar #indiansweet #mithai #sawan #monsoonsweets',\n",
       " \"Some happy moments from last week's food walks in Delhi. If you wish to dive into the glorious culinary landscape of the capital, do write to us at foodwalk@delhifoodwalks.com or DM us and book a tour as per your interests. Keep Walking. Keep Exploring🥰#foodwalk #delhifoodwalks #foodtours #foodtourism #walkwithanubhav #walkwithdfw #delhistreetfoodtour #foodstories\",\n",
       " 'कानपुर का प्रसिद्ध बाटी चोखा l हालाँकि मुझे यहाँ का बाटी चोखा कुछ ख़ास पसंद नहीं आया पर बनाया गया था बिल्कुल पारम्परिक तरीक़े से ! दिल्ली में सबसे अच्छा बाटी चोखा कहा मिलता है ?',\n",
       " 'The 2nd episode of our Kanpur series is now playing on our YouTube channel. Come along for a fun breakfast food tour featuring some evergreen classic dishes and some fusion treats. #dfwinkanpur #breakfasttour #foodwalkawithanubhav #kanpurfoodies #foodexploration #streetfood']"
      ]
     },
     "execution_count": 12,
     "metadata": {},
     "output_type": "execute_result"
    }
   ],
   "source": [
    "contents = []\n",
    "hashtags = {}\n",
    "for i in top5_handles:\n",
    "    OpenProfile(driver, i)\n",
    "    \n",
    "    posts = wait.until(EC.presence_of_all_elements_located((By.CLASS_NAME, '_aanf')))\n",
    "    count = 0\n",
    "    for post in posts:\n",
    "        post.click()\n",
    "        texts = wait.until(EC.presence_of_element_located((By.CLASS_NAME, '_a9zs')))\n",
    "        contents.append(texts.get_attribute('textContent'))\n",
    "        \n",
    "        hashes = texts.find_elements(By.TAG_NAME, 'a')\n",
    "        for ele in hashes:\n",
    "            h = ele.get_attribute('innerHTML')\n",
    "            if h[0]!='@' or h!='':\n",
    "                hashtags[h] = hashtags.get(h, 0) + 1\n",
    "        \n",
    "        driver.back()\n",
    "        time.sleep(2)\n",
    "        count+=1\n",
    "        if count==10:\n",
    "            break\n",
    "    driver.back()\n",
    "    time.sleep(2)\n",
    "    \n",
    "contents"
   ]
  },
  {
   "cell_type": "code",
   "execution_count": 13,
   "metadata": {
    "scrolled": false
   },
   "outputs": [
    {
     "data": {
      "text/plain": [
       "{'@albert_cancook': 1,\n",
       " '@bayashi_tv': 1,\n",
       " '@maxthemeatguy': 1,\n",
       " '@notorious_foodie': 1,\n",
       " '@darwins.ilva': 1,\n",
       " '@fitwaffle': 1,\n",
       " '@saidakromchef': 1,\n",
       " '@bnaporkstore': 1,\n",
       " '@sadfman': 1,\n",
       " '@umihito.vlog': 1,\n",
       " '#foodieincarnate': 10,\n",
       " '#sodelhi': 7,\n",
       " '#newdelhi': 7,\n",
       " '#foodtalkindia': 7,\n",
       " '#delhigram': 7,\n",
       " '#indianfood': 6,\n",
       " '#delhifoodblogger': 6,\n",
       " '#foodgasm': 4,\n",
       " '#foodporn': 4,\n",
       " '#foodpornshare': 4,\n",
       " '#foodlover': 4,\n",
       " '#foodgram': 4,\n",
       " '#foodiesofinstagram': 4,\n",
       " '#foodie': 4,\n",
       " '#indianstreetfood': 5,\n",
       " '#streetfood': 11,\n",
       " '#delhistreetfood': 5,\n",
       " '#streetfoodindia': 5,\n",
       " '#mumbaistreetfood': 5,\n",
       " '#delhifoodie': 4,\n",
       " '#foodblogger': 6,\n",
       " '#indianfoodie': 6,\n",
       " '#desikhana': 6,\n",
       " '#indianfoodblogger': 6,\n",
       " '#indianfoodbloggers': 6,\n",
       " '#delhifood': 6,\n",
       " '#mumbai': 5,\n",
       " '#delhi': 6,\n",
       " '#paratha': 1,\n",
       " '#Jaipur': 1,\n",
       " '#reelitfeelit': 3,\n",
       " '#reelkarofeelkaro': 3,\n",
       " '#reelsinstagram': 3,\n",
       " '#reels': 4,\n",
       " '#patna': 1,\n",
       " '#bihar': 1,\n",
       " '#viralfood': 3,\n",
       " '#explore': 3,\n",
       " '#desifood': 3,\n",
       " '#pune': 1,\n",
       " '#gurugram': 1,\n",
       " '#kolkata': 1,\n",
       " '#shahdara': 1,\n",
       " '#eastdelhi': 1,\n",
       " '#southindianfood': 1,\n",
       " '#dessert': 1,\n",
       " '#desserts': 1,\n",
       " '#mumbaifood': 1,\n",
       " '#mithai': 2,\n",
       " '#indiandessert': 1,\n",
       " '#soulfood': 1,\n",
       " '#balushahi': 1,\n",
       " '#sobangalore': 1,\n",
       " '#dessertporn': 1,\n",
       " '#panipuri': 1,\n",
       " '#nashik': 2,\n",
       " '#sweetcorn': 1,\n",
       " '#bhutta': 1,\n",
       " '#chole': 1,\n",
       " '#cholebhature': 1,\n",
       " '#bhature': 1,\n",
       " '#paharganj': 1,\n",
       " '#puranidilli': 1,\n",
       " '#streetfoods': 1,\n",
       " '#streetfoodlover': 1,\n",
       " '#thali': 3,\n",
       " '#instafoodlover': 1,\n",
       " '#delhite': 1,\n",
       " '#olddelhi': 1,\n",
       " '#foodinstagram': 1,\n",
       " '#instagramfood': 1,\n",
       " '#indiancuisine': 1,\n",
       " '#kulcha': 1,\n",
       " '#chana': 1,\n",
       " '#gujju': 1,\n",
       " '#khakhra': 1,\n",
       " '#pizza': 1,\n",
       " '#pizzalover': 1,\n",
       " '#sirohi': 1,\n",
       " '#rajasthan': 1,\n",
       " '#highwayfood': 1,\n",
       " '#highway': 2,\n",
       " '#dhaba': 1,\n",
       " '#travelblogger': 1,\n",
       " '#foodbloggers': 1,\n",
       " '#mumbaifoodie': 1,\n",
       " '#travelfood': 1,\n",
       " '#indiatravel': 1,\n",
       " '#rajasthanfood': 1,\n",
       " '#localflavor': 1,\n",
       " '#amarsirohi': 1,\n",
       " '#mountabu': 1,\n",
       " '#rajasthanifood': 1,\n",
       " '#misal': 1,\n",
       " '@rnrbiryani': 3,\n",
       " '#rnrbiryani': 1,\n",
       " '#donnebiryani': 1,\n",
       " '#biriyani': 1,\n",
       " '#rnr': 1,\n",
       " '#foodzeee': 8,\n",
       " '#paneer': 1,\n",
       " '#masalapaneer': 1,\n",
       " '#cheese': 1,\n",
       " '#recipe': 6,\n",
       " '#cottagecheese': 1,\n",
       " '@sgr777food': 7,\n",
       " '#nostalgic': 1,\n",
       " '@www.sgr777foods.com': 1,\n",
       " '#sevai': 1,\n",
       " '#sgr777food': 1,\n",
       " '#ricesevai': 1,\n",
       " '#shavige': 1,\n",
       " '#ottushavige': 1,\n",
       " '#PrimeDay': 2,\n",
       " '#DiscoverJoyWithAmazon': 1,\n",
       " '@amazonnews_in': 1,\n",
       " '#collab': 1,\n",
       " '@foodzeee': 3,\n",
       " '#paalkova': 1,\n",
       " '#milksweet': 1,\n",
       " '#milk': 1,\n",
       " '#therattipal': 1,\n",
       " '#vathakuzhambu': 1,\n",
       " '#kuzhambu': 1,\n",
       " '#sgr777foods': 1,\n",
       " '#puttu': 1,\n",
       " '#kadalacurry': 1,\n",
       " '#keralarecipes': 1,\n",
       " '#jhalmuri': 1,\n",
       " '#chaat': 1,\n",
       " '#india': 1,\n",
       " '@sugar_bake_by_arsheen_kohli': 1,\n",
       " '#dilsefoodie': 9,\n",
       " '#dilsecouple': 9,\n",
       " '#Rakhi': 1,\n",
       " '#Hampers': 1,\n",
       " '#village': 1,\n",
       " '#cow': 1,\n",
       " '#desi': 1,\n",
       " '#ghee': 1,\n",
       " '@_bhaskar_dutta': 1,\n",
       " '@ulhaskamthe': 1,\n",
       " '@wake_n_bite': 1,\n",
       " '#ArnavResorts': 1,\n",
       " '#Murthal': 1,\n",
       " '#roasted': 1,\n",
       " '#chicken': 2,\n",
       " '#fish': 1,\n",
       " '#anokha': 1,\n",
       " '#adhbhut': 1,\n",
       " '#awishvasniye': 1,\n",
       " '#foodiewe': 1,\n",
       " '@dilsecouple': 1,\n",
       " '#food': 1,\n",
       " '#Alootikki': 1,\n",
       " '#nizamuddin': 1,\n",
       " '#anarsa': 1,\n",
       " '#feni': 1,\n",
       " '#monsoon': 1,\n",
       " '#monsoonsweets': 2,\n",
       " '#makhanlalhalwai': 1,\n",
       " '#delhifoodtour': 1,\n",
       " '#dfwinkanpur': 4,\n",
       " '#breakfasttour': 4,\n",
       " '#foodwalkawithanubhav': 4,\n",
       " '#kanpurfoodies': 4,\n",
       " '#foodexploration': 4,\n",
       " '#nonvegfoodtour': 1,\n",
       " '#bestnonvegplaces': 1,\n",
       " '#kanpurfoodtour': 1,\n",
       " '#kanpurfood': 1,\n",
       " '#ghewar': 1,\n",
       " '#malaighewar': 1,\n",
       " '#indiansweet': 1,\n",
       " '#sawan': 1,\n",
       " '#foodwalk': 1,\n",
       " '#delhifoodwalks': 1,\n",
       " '#foodtours': 1,\n",
       " '#foodtourism': 1,\n",
       " '#walkwithanubhav': 1,\n",
       " '#walkwithdfw': 1,\n",
       " '#delhistreetfoodtour': 1,\n",
       " '#foodstories': 1}"
      ]
     },
     "execution_count": 13,
     "metadata": {},
     "output_type": "execute_result"
    }
   ],
   "source": [
    "hashtags"
   ]
  },
  {
   "cell_type": "markdown",
   "metadata": {},
   "source": [
    "### 2.3). Create a csv file with two columns : the word and its frequency"
   ]
  },
  {
   "cell_type": "code",
   "execution_count": 14,
   "metadata": {},
   "outputs": [],
   "source": [
    "hash_words = np.array([i[1:] for i in hashtags.keys()])\n",
    "hash_freq = np.array([i for i in hashtags.values()])\n",
    "hash_words = hash_words[np.argsort(hash_freq)][::-1]\n",
    "hash_freq = hash_freq[np.argsort(hash_freq)][::-1]\n",
    "\n",
    "df = pd.DataFrame()\n",
    "df['Words'] = hash_words\n",
    "df['Frequency'] = hash_freq\n",
    "df.to_csv('Hashtags_frequencies.csv')"
   ]
  },
  {
   "cell_type": "markdown",
   "metadata": {},
   "source": [
    "### 2.4). Now, find the hashtags that were most popular among these bloggers"
   ]
  },
  {
   "cell_type": "code",
   "execution_count": 15,
   "metadata": {
    "scrolled": false
   },
   "outputs": [
    {
     "name": "stdout",
     "output_type": "stream",
     "text": [
      "streetfood ----> 11 times\n",
      "foodieincarnate ----> 10 times\n",
      "dilsecouple ----> 9 times\n",
      "dilsefoodie ----> 9 times\n",
      "foodzeee ----> 8 times\n",
      "delhigram ----> 7 times\n",
      "newdelhi ----> 7 times\n",
      "sodelhi ----> 7 times\n",
      "foodtalkindia ----> 7 times\n",
      "sgr777food ----> 7 times\n",
      "indianfoodblogger ----> 6 times\n",
      "indianfoodie ----> 6 times\n",
      "delhifoodblogger ----> 6 times\n",
      "indianfood ----> 6 times\n",
      "desikhana ----> 6 times\n",
      "foodblogger ----> 6 times\n",
      "recipe ----> 6 times\n",
      "delhi ----> 6 times\n",
      "delhifood ----> 6 times\n",
      "indianfoodbloggers ----> 6 times\n",
      "mumbaistreetfood ----> 5 times\n",
      "streetfoodindia ----> 5 times\n",
      "mumbai ----> 5 times\n",
      "delhistreetfood ----> 5 times\n",
      "indianstreetfood ----> 5 times\n",
      "foodgram ----> 4 times\n",
      "foodie ----> 4 times\n",
      "foodiesofinstagram ----> 4 times\n",
      "delhifoodie ----> 4 times\n",
      "foodlover ----> 4 times\n",
      "breakfasttour ----> 4 times\n",
      "reels ----> 4 times\n",
      "foodexploration ----> 4 times\n",
      "foodpornshare ----> 4 times\n",
      "foodwalkawithanubhav ----> 4 times\n",
      "kanpurfoodies ----> 4 times\n",
      "dfwinkanpur ----> 4 times\n",
      "foodgasm ----> 4 times\n",
      "foodporn ----> 4 times\n",
      "reelkarofeelkaro ----> 3 times\n",
      "reelitfeelit ----> 3 times\n",
      "viralfood ----> 3 times\n",
      "explore ----> 3 times\n",
      "desifood ----> 3 times\n",
      "rnrbiryani ----> 3 times\n",
      "foodzeee ----> 3 times\n",
      "thali ----> 3 times\n",
      "reelsinstagram ----> 3 times\n",
      "chicken ----> 2 times\n",
      "monsoonsweets ----> 2 times\n",
      "nashik ----> 2 times\n",
      "highway ----> 2 times\n",
      "mithai ----> 2 times\n",
      "PrimeDay ----> 2 times\n",
      "instafoodlover ----> 1 times\n",
      "cholebhature ----> 1 times\n",
      "khakhra ----> 1 times\n",
      "sweetcorn ----> 1 times\n",
      "bhutta ----> 1 times\n",
      "chole ----> 1 times\n",
      "gujju ----> 1 times\n",
      "chana ----> 1 times\n",
      "paharganj ----> 1 times\n",
      "bhature ----> 1 times\n",
      "delhite ----> 1 times\n",
      "puranidilli ----> 1 times\n",
      "kulcha ----> 1 times\n",
      "indiancuisine ----> 1 times\n",
      "instagramfood ----> 1 times\n",
      "foodinstagram ----> 1 times\n",
      "streetfoods ----> 1 times\n",
      "streetfoodlover ----> 1 times\n",
      "olddelhi ----> 1 times\n",
      "dessertporn ----> 1 times\n",
      "panipuri ----> 1 times\n",
      "foodstories ----> 1 times\n",
      "sobangalore ----> 1 times\n",
      "balushahi ----> 1 times\n",
      "bayashi_tv ----> 1 times\n",
      "maxthemeatguy ----> 1 times\n",
      "notorious_foodie ----> 1 times\n",
      "darwins.ilva ----> 1 times\n",
      "fitwaffle ----> 1 times\n",
      "saidakromchef ----> 1 times\n",
      "bnaporkstore ----> 1 times\n",
      "sadfman ----> 1 times\n",
      "umihito.vlog ----> 1 times\n",
      "paratha ----> 1 times\n",
      "Jaipur ----> 1 times\n",
      "pizzalover ----> 1 times\n",
      "patna ----> 1 times\n",
      "bihar ----> 1 times\n",
      "pune ----> 1 times\n",
      "gurugram ----> 1 times\n",
      "kolkata ----> 1 times\n",
      "shahdara ----> 1 times\n",
      "eastdelhi ----> 1 times\n",
      "southindianfood ----> 1 times\n",
      "dessert ----> 1 times\n",
      "desserts ----> 1 times\n",
      "mumbaifood ----> 1 times\n",
      "indiandessert ----> 1 times\n",
      "soulfood ----> 1 times\n",
      "pizza ----> 1 times\n",
      "travelfood ----> 1 times\n",
      "sirohi ----> 1 times\n",
      "rajasthan ----> 1 times\n",
      "dilsecouple ----> 1 times\n",
      "foodiewe ----> 1 times\n",
      "awishvasniye ----> 1 times\n",
      "adhbhut ----> 1 times\n",
      "anokha ----> 1 times\n",
      "fish ----> 1 times\n",
      "roasted ----> 1 times\n",
      "Murthal ----> 1 times\n",
      "ArnavResorts ----> 1 times\n",
      "wake_n_bite ----> 1 times\n",
      "ulhaskamthe ----> 1 times\n",
      "_bhaskar_dutta ----> 1 times\n",
      "ghee ----> 1 times\n",
      "desi ----> 1 times\n",
      "cow ----> 1 times\n",
      "village ----> 1 times\n",
      "Hampers ----> 1 times\n",
      "Rakhi ----> 1 times\n",
      "sugar_bake_by_arsheen_kohli ----> 1 times\n",
      "food ----> 1 times\n",
      "Alootikki ----> 1 times\n",
      "nizamuddin ----> 1 times\n",
      "malaighewar ----> 1 times\n",
      "walkwithdfw ----> 1 times\n",
      "walkwithanubhav ----> 1 times\n",
      "foodtourism ----> 1 times\n",
      "foodtours ----> 1 times\n",
      "delhifoodwalks ----> 1 times\n",
      "foodwalk ----> 1 times\n",
      "sawan ----> 1 times\n",
      "indiansweet ----> 1 times\n",
      "ghewar ----> 1 times\n",
      "anarsa ----> 1 times\n",
      "kanpurfood ----> 1 times\n",
      "kanpurfoodtour ----> 1 times\n",
      "bestnonvegplaces ----> 1 times\n",
      "nonvegfoodtour ----> 1 times\n",
      "delhifoodtour ----> 1 times\n",
      "makhanlalhalwai ----> 1 times\n",
      "monsoon ----> 1 times\n",
      "feni ----> 1 times\n",
      "india ----> 1 times\n",
      "chaat ----> 1 times\n",
      "jhalmuri ----> 1 times\n",
      "amarsirohi ----> 1 times\n",
      "paneer ----> 1 times\n",
      "rnr ----> 1 times\n",
      "biriyani ----> 1 times\n",
      "donnebiryani ----> 1 times\n",
      "rnrbiryani ----> 1 times\n",
      "misal ----> 1 times\n",
      "rajasthanifood ----> 1 times\n",
      "mountabu ----> 1 times\n",
      "localflavor ----> 1 times\n",
      "cheese ----> 1 times\n",
      "rajasthanfood ----> 1 times\n",
      "indiatravel ----> 1 times\n",
      "delhistreetfoodtour ----> 1 times\n",
      "mumbaifoodie ----> 1 times\n",
      "foodbloggers ----> 1 times\n",
      "travelblogger ----> 1 times\n",
      "dhaba ----> 1 times\n",
      "highwayfood ----> 1 times\n",
      "masalapaneer ----> 1 times\n",
      "cottagecheese ----> 1 times\n",
      "keralarecipes ----> 1 times\n",
      "paalkova ----> 1 times\n",
      "kadalacurry ----> 1 times\n",
      "puttu ----> 1 times\n",
      "sgr777foods ----> 1 times\n",
      "kuzhambu ----> 1 times\n",
      "vathakuzhambu ----> 1 times\n",
      "therattipal ----> 1 times\n",
      "milk ----> 1 times\n",
      "milksweet ----> 1 times\n",
      "collab ----> 1 times\n",
      "nostalgic ----> 1 times\n",
      "amazonnews_in ----> 1 times\n",
      "DiscoverJoyWithAmazon ----> 1 times\n",
      "ottushavige ----> 1 times\n",
      "shavige ----> 1 times\n",
      "ricesevai ----> 1 times\n",
      "sgr777food ----> 1 times\n",
      "sevai ----> 1 times\n",
      "www.sgr777foods.com ----> 1 times\n",
      "albert_cancook ----> 1 times\n"
     ]
    }
   ],
   "source": [
    "for i in range(len(hash_words)):\n",
    "    print(hash_words[i], '---->', hash_freq[i], 'times')"
   ]
  },
  {
   "cell_type": "markdown",
   "metadata": {},
   "source": [
    "### 2.5). Plot a Pie Chart of the top 5 hashtags obtained and the number of times they were used by these bloggers in the scraped posts."
   ]
  },
  {
   "cell_type": "code",
   "execution_count": 16,
   "metadata": {},
   "outputs": [
    {
     "data": {
      "image/png": "[encoded data removed]",
      "text/plain": [
       "<Figure size 504x504 with 1 Axes>"
      ]
     },
     "metadata": {},
     "output_type": "display_data"
    }
   ],
   "source": [
    "plt.figure(figsize=(7, 7))\n",
    "plt.pie(hash_freq[:5], labels=hash_words[:5], autopct='%.2f%%')\n",
    "plt.title('Pie Chart of the top 5 hashtags')\n",
    "plt.show()"
   ]
  },
  {
   "cell_type": "markdown",
   "metadata": {},
   "source": [
    "## 3). You need to also calculate average followers : likes ratio for the obtained handles. Followers : Likes ratio is calculated as follows:\n",
    "### 3.1). Find out the likes of the top 10 posts of the 5 handles obtained earlier."
   ]
  },
  {
   "cell_type": "code",
   "execution_count": 18,
   "metadata": {},
   "outputs": [
    {
     "name": "stdout",
     "output_type": "stream",
     "text": [
      "We have Successfully opened the profile of foodsbible\n",
      "38288\n",
      "118761\n",
      "35315\n",
      "76311\n",
      "121192\n",
      "73029\n",
      "76071\n",
      "37943\n",
      "174546\n",
      "146929\n",
      "We have Successfully opened the profile of foodie_incarnate\n",
      "12440\n",
      "21948\n",
      "5534\n",
      "16246\n",
      "30745\n",
      "9356\n",
      "16746\n",
      "20285\n",
      "11193\n",
      "18791\n",
      "We have Successfully opened the profile of foodzeee\n",
      "31197\n",
      "27152\n",
      "22637\n",
      "51331\n",
      "10089\n",
      "53452\n",
      "127131\n",
      "81722\n",
      "110001\n",
      "28894\n",
      "We have Successfully opened the profile of dilsefoodie\n",
      "2263\n",
      "10938\n",
      "2960\n",
      "6696\n",
      "3845\n",
      "4196\n",
      "6739\n",
      "4036\n",
      "25139\n",
      "7405\n",
      "We have Successfully opened the profile of delhifoodwalks\n",
      "154\n",
      "260\n",
      "856\n",
      "309\n",
      "3895\n",
      "569\n",
      "1267\n",
      "577\n",
      "1641\n",
      "1114\n",
      "foodsbible : 898385 likes\n",
      "foodie_incarnate : 163284 likes\n",
      "foodzeee : 543606 likes\n",
      "dilsefoodie : 74217 likes\n",
      "delhifoodwalks : 10642 likes\n"
     ]
    }
   ],
   "source": [
    "likes = {}\n",
    "for profile in top5_handles:\n",
    "    OpenProfile(driver, profile)\n",
    "    \n",
    "    posts = wait.until(EC.presence_of_all_elements_located((By.CLASS_NAME, '_aanf')))\n",
    "    count = 0\n",
    "    for post in posts:\n",
    "        post.click()\n",
    "        try:\n",
    "            l = wait.until(EC.presence_of_element_located((By.XPATH, '//section[@class = \"_aa-7\"]//span')))\n",
    "            num = l.text\n",
    "            if len(num.split())==2:\n",
    "                l.click()\n",
    "                num = wait.until(EC.presence_of_element_located((By.CLASS_NAME, '_aauu'))).text.split()[0]\n",
    "            num = int(\"\".join(num.split(',')))\n",
    "            likes[profile] = likes.get(profile, 0) + num\n",
    "        except:\n",
    "            driver.back()\n",
    "            time.sleep(1)\n",
    "            continue\n",
    "        print(num)\n",
    "        driver.back()\n",
    "        time.sleep(2)\n",
    "        \n",
    "        count+=1\n",
    "        if count==10:\n",
    "            break\n",
    "    driver.back()\n",
    "    time.sleep(2)\n",
    "    \n",
    "for ele in likes:\n",
    "    print(ele, ':', likes[ele], 'likes')"
   ]
  },
  {
   "cell_type": "markdown",
   "metadata": {},
   "source": [
    "### 3.2). Calculate the average likes for a handle."
   ]
  },
  {
   "cell_type": "code",
   "execution_count": 19,
   "metadata": {},
   "outputs": [
    {
     "name": "stdout",
     "output_type": "stream",
     "text": [
      "foodsbible : 89838 average likes\n",
      "foodie_incarnate : 16328 average likes\n",
      "foodzeee : 54360 average likes\n",
      "dilsefoodie : 7421 average likes\n",
      "delhifoodwalks : 1064 average likes\n"
     ]
    }
   ],
   "source": [
    "avg_likes = {}\n",
    "for i in likes:\n",
    "    avg_likes[i] = int(likes[i]/10)\n",
    "for ele in avg_likes:\n",
    "    print(ele, ':', avg_likes[ele], 'average likes')"
   ]
  },
  {
   "cell_type": "markdown",
   "metadata": {},
   "source": [
    "### 3.3). Divide the average likes obtained from the number of followers of the handle to get the average followers:like ratio of each handle."
   ]
  },
  {
   "cell_type": "code",
   "execution_count": 20,
   "metadata": {},
   "outputs": [
    {
     "name": "stdout",
     "output_type": "stream",
     "text": [
      "foodsbible : 89838 average ratio\n",
      "foodie_incarnate : 16328 average ratio\n",
      "foodzeee : 54360 average ratio\n",
      "dilsefoodie : 7421 average ratio\n",
      "delhifoodwalks : 1064 average ratio\n"
     ]
    }
   ],
   "source": [
    "avg_ratio = {}\n",
    "for i in avg_likes:\n",
    "    avg_ratio[i] = int(followers[i]/avg_likes[i])\n",
    "for ele in avg_ratio:\n",
    "    print(ele, ':', avg_likes[ele], 'average ratio')"
   ]
  },
  {
   "cell_type": "markdown",
   "metadata": {},
   "source": [
    "### 3.4). Create a bar graph to depict the above obtained information."
   ]
  },
  {
   "cell_type": "code",
   "execution_count": 21,
   "metadata": {
    "scrolled": true
   },
   "outputs": [
    {
     "data": {
      "image/png": "[encoded data removed]",
      "text/plain": [
       "<Figure size 432x288 with 1 Axes>"
      ]
     },
     "metadata": {
      "needs_background": "light"
     },
     "output_type": "display_data"
    }
   ],
   "source": [
    "plt.bar(avg_ratio.keys(), avg_ratio.values(), color='red')\n",
    "plt.title('Average followers:like ratio of each handle')\n",
    "plt.xticks(rotation=45)\n",
    "plt.xlabel('Handles', size=12)\n",
    "plt.ylabel('Average followers to likes ratio')\n",
    "plt.show()"
   ]
  },
  {
   "cell_type": "code",
   "execution_count": 22,
   "metadata": {},
   "outputs": [],
   "source": [
    "driver.quit()"
   ]
  }
 ],
 "metadata": {
  "kernelspec": {
   "display_name": "Python 3",
   "language": "python",
   "name": "python3"
  },
  "language_info": {
   "codemirror_mode": {
    "name": "ipython",
    "version": 3
   },
   "file_extension": ".py",
   "mimetype": "text/x-python",
   "name": "python",
   "nbconvert_exporter": "python",
   "pygments_lexer": "ipython3",
   "version": "3.8.5"
  }
 },
 "nbformat": 4,
 "nbformat_minor": 4
}
